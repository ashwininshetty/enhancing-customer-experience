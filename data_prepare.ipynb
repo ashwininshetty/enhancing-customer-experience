{
 "cells": [
  {
   "cell_type": "markdown",
   "metadata": {
    "id": "J42ep_Cy09yS"
   },
   "source": [
    "# Import and inspect data"
   ]
  },
  {
   "cell_type": "code",
   "execution_count": 1,
   "metadata": {
    "colab": {
     "base_uri": "https://localhost:8080/"
    },
    "id": "P-Ek7X9009yV",
    "outputId": "1a3c46ce-4b50-4beb-d9c3-798002da40cf"
   },
   "outputs": [
    {
     "name": "stderr",
     "output_type": "stream",
     "text": [
      "[nltk_data] Downloading package stopwords to /root/nltk_data...\n",
      "[nltk_data]   Package stopwords is already up-to-date!\n",
      "[nltk_data] Downloading package punkt to /root/nltk_data...\n",
      "[nltk_data]   Package punkt is already up-to-date!\n",
      "[nltk_data] Downloading package wordnet to /root/nltk_data...\n",
      "[nltk_data]   Package wordnet is already up-to-date!\n",
      "[nltk_data] Downloading package omw-1.4 to /root/nltk_data...\n",
      "[nltk_data]   Package omw-1.4 is already up-to-date!\n"
     ]
    },
    {
     "data": {
      "text/plain": [
       "True"
      ]
     },
     "execution_count": 1,
     "metadata": {},
     "output_type": "execute_result"
    }
   ],
   "source": [
    "import nltk\n",
    "import requests\n",
    "import string\n",
    "import numpy as np\n",
    "import pandas as pd\n",
    "from tqdm import tqdm\n",
    "from nltk import word_tokenize\n",
    "from nltk.corpus import stopwords\n",
    "from nltk.stem.wordnet import WordNetLemmatizer\n",
    "nltk.download('stopwords')\n",
    "nltk.download('punkt')\n",
    "nltk.download('wordnet')\n",
    "nltk.download('omw-1.4')"
   ]
  },
  {
   "cell_type": "code",
   "execution_count": 2,
   "metadata": {
    "colab": {
     "base_uri": "https://localhost:8080/"
    },
    "id": "2-vsJgii09yW",
    "outputId": "8cd5f8f5-1e12-4155-b29c-92b3ed1f18aa"
   },
   "outputs": [
    {
     "data": {
      "text/plain": [
       "368368399"
      ]
     },
     "execution_count": 2,
     "metadata": {},
     "output_type": "execute_result"
    }
   ],
   "source": [
    "# downloading 4 years data from 2022-01-10 to 2018-01-04) using govt api \n",
    "Train_data_URL = 'https://www.consumerfinance.gov/data-research/consumer-complaints/search/api/v1/?date_received_max=2022-10-01&date_received_min=2018-04-01&field=all&format=csv&no_aggs=true&size=1969571&sort=created_date_desc'\n",
    "\n",
    "# downloading 6 months data from 2023-01-04 to 2022-02-10 using govt api\n",
    "Test_data_URL  = 'https://www.consumerfinance.gov/data-research/consumer-complaints/search/api/v1/?date_received_max=2023-04-01&date_received_min=2022-10-02&field=all&format=csv&no_aggs=true&size=532067&sort=created_date_desc'\n",
    "\n",
    "r = requests.get(Train_data_URL)\n",
    "open('train_data.csv', 'wb').write(r.content)\n",
    "\n",
    "r = requests.get(Test_data_URL)\n",
    "open('test_data.csv', 'wb').write(r.content)\n"
   ]
  },
  {
   "cell_type": "code",
   "execution_count": 2,
   "metadata": {
    "id": "zGB1e_unCqRw"
   },
   "outputs": [],
   "source": [
    "#Using Data frame to load data\n",
    "df_orig = pd.read_csv('train_data.csv')\n",
    "df_test_orig = pd.read_csv('test_data.csv')"
   ]
  },
  {
   "cell_type": "code",
   "execution_count": 3,
   "metadata": {
    "id": "di5Sn2EQLSHj"
   },
   "outputs": [],
   "source": [
    "df = df_orig.copy()\n",
    "df_test = df_test_orig.copy()"
   ]
  },
  {
   "cell_type": "markdown",
   "metadata": {
    "id": "UCqDj-KKDRDG"
   },
   "source": [
    "**Data Inspection**"
   ]
  },
  {
   "cell_type": "code",
   "execution_count": 4,
   "metadata": {
    "colab": {
     "base_uri": "https://localhost:8080/"
    },
    "id": "Nt1a0cSi_OwN",
    "outputId": "6dd9bce1-e10a-467b-e688-1de333c660ce"
   },
   "outputs": [
    {
     "name": "stdout",
     "output_type": "stream",
     "text": [
      "Number of NaN values present: 1142952\n"
     ]
    }
   ],
   "source": [
    "# Counting the number of NaN values in the df\n",
    "count_nan = df['Consumer complaint narrative'].isnull().sum()\n",
    " \n",
    "# printing the number of values present in the column\n",
    "print('Number of NaN values present: ' + str(count_nan))\n",
    "\n",
    "# dropping rows which have no narrative (1142848 rows)\n",
    "df = df.dropna(subset=['Consumer complaint narrative'])"
   ]
  },
  {
   "cell_type": "code",
   "execution_count": 5,
   "metadata": {
    "colab": {
     "base_uri": "https://localhost:8080/"
    },
    "id": "dbHVcVkI09yY",
    "outputId": "4fb462b3-b80a-4d93-c031-3b7ce59fae24"
   },
   "outputs": [
    {
     "data": {
      "text/plain": [
       "Credit reporting, credit repair services, or other personal consumer reports    461267\n",
       "Debt collection                                                                 127330\n",
       "Credit card or prepaid card                                                      70468\n",
       "Mortgage                                                                         53256\n",
       "Checking or savings account                                                      47193\n",
       "Money transfer, virtual currency, or money service                               23263\n",
       "Vehicle loan or lease                                                            16819\n",
       "Student loan                                                                     15700\n",
       "Payday loan, title loan, or personal loan                                        11323\n",
       "Name: product, dtype: int64"
      ]
     },
     "execution_count": 5,
     "metadata": {},
     "output_type": "execute_result"
    }
   ],
   "source": [
    "# Picking \"Product ,Consumer complaint narrative\" for the modelling\n",
    "df = df[['Product', 'Consumer complaint narrative']]\n",
    "# Columns renamed for easy access\n",
    "df = df.rename(columns={\"Product\": \"product\",  \"Consumer complaint narrative\": \"narrative\"})\n",
    "df['product'].value_counts()"
   ]
  },
  {
   "cell_type": "code",
   "execution_count": 19,
   "metadata": {
    "colab": {
     "base_uri": "https://localhost:8080/",
     "height": 446
    },
    "id": "2RUoIglZoStJ",
    "outputId": "42cc0fb3-e394-46b9-d431-413829598bf8"
   },
   "outputs": [
    {
     "data": {
      "text/plain": [
       "Text(0.5, 1.0, 'Catogary distribution')"
      ]
     },
     "execution_count": 19,
     "metadata": {},
     "output_type": "execute_result"
    },
    {
     "data": {
      "image/png": "[encoded data removed]",
      "text/plain": [
       "<Figure size 640x480 with 1 Axes>"
      ]
     },
     "metadata": {},
     "output_type": "display_data"
    }
   ],
   "source": [
    "catogary_count = df['product'].value_counts()\n",
    "plot = catogary_count.plot(kind='pie')\n",
    "plot.set_title(\"Catogary distribution\")"
   ]
  },
  {
   "cell_type": "code",
   "execution_count": 6,
   "metadata": {
    "colab": {
     "base_uri": "https://localhost:8080/"
    },
    "id": "Uir_acw709yb",
    "outputId": "606d9f2a-12aa-4c23-df0e-f3c172bc1eed"
   },
   "outputs": [
    {
     "data": {
      "text/plain": [
       "credit_reporting       461267\n",
       "debt_collection        127330\n",
       "mortgages_and_loans     97098\n",
       "credit_card             70468\n",
       "retail_banking          70456\n",
       "Name: product, dtype: int64"
      ]
     },
     "execution_count": 6,
     "metadata": {},
     "output_type": "execute_result"
    }
   ],
   "source": [
    "# Aggrigating product column to easily categorise for the modelling\n",
    "df['product'].replace({'Credit reporting, credit repair services, or other personal consumer reports': 'credit_reporting',\n",
    "                       'Debt collection': 'debt_collection',\n",
    "                       'Credit card or prepaid card': 'credit_card',\n",
    "                       'Mortgage': 'mortgage',\n",
    "                       'Checking or savings account': 'retail_banking',\n",
    "                       'Money transfer, virtual currency, or money service': 'retail_banking',\n",
    "                       'Vehicle loan or lease': 'loans',\n",
    "                       'Payday loan, title loan, or personal loan': 'loans',\n",
    "                       'Student loan': 'loans'}, inplace=True)\n",
    "\n",
    "#Merging mortgage and loans together as they are in less percentage and almost belong to same category\n",
    "df['product'].replace({'mortgage': 'mortgages_and_loans',\n",
    "                       'loans': 'mortgages_and_loans'}, inplace=True)\n",
    "df['product'].value_counts()"
   ]
  },
  {
   "cell_type": "code",
   "execution_count": 7,
   "metadata": {
    "colab": {
     "base_uri": "https://localhost:8080/",
     "height": 224
    },
    "id": "8w8KjJr2D785",
    "outputId": "bc1081d2-bdb7-4068-9299-20b6ba0868bb"
   },
   "outputs": [
    {
     "name": "stderr",
     "output_type": "stream",
     "text": [
      "100%|██████████| 826619/826619 [26:46<00:00, 514.52it/s]\n"
     ]
    },
    {
     "data": {
      "text/html": [
       "\n",
       "  <div id=\"df-d2474c83-f67c-4c5c-835f-86d3244f64ba\">\n",
       "    <div class=\"colab-df-container\">\n",
       "      <div>\n",
       "<style scoped>\n",
       "    .dataframe tbody tr th:only-of-type {\n",
       "        vertical-align: middle;\n",
       "    }\n",
       "\n",
       "    .dataframe tbody tr th {\n",
       "        vertical-align: top;\n",
       "    }\n",
       "\n",
       "    .dataframe thead th {\n",
       "        text-align: right;\n",
       "    }\n",
       "</style>\n",
       "<table border=\"1\" class=\"dataframe\">\n",
       "  <thead>\n",
       "    <tr style=\"text-align: right;\">\n",
       "      <th></th>\n",
       "      <th>product</th>\n",
       "      <th>narrative</th>\n",
       "      <th>processed_narrative</th>\n",
       "    </tr>\n",
       "  </thead>\n",
       "  <tbody>\n",
       "    <tr>\n",
       "      <th>0</th>\n",
       "      <td>mortgages_and_loans</td>\n",
       "      <td>On XX/XX/2019 I made a monthly loan payment to...</td>\n",
       "      <td>made monthly loan payment pnc bank branch mana...</td>\n",
       "    </tr>\n",
       "    <tr>\n",
       "      <th>3</th>\n",
       "      <td>debt_collection</td>\n",
       "      <td>On XX/XX/XXXX, I received a voicemail message ...</td>\n",
       "      <td>received voicemail message later identified wo...</td>\n",
       "    </tr>\n",
       "    <tr>\n",
       "      <th>8</th>\n",
       "      <td>credit_reporting</td>\n",
       "      <td>I have recently discovered that there is unaut...</td>\n",
       "      <td>recently discovered unauthorized information n...</td>\n",
       "    </tr>\n",
       "    <tr>\n",
       "      <th>9</th>\n",
       "      <td>credit_reporting</td>\n",
       "      <td>I check my Experian credit report on a monthly...</td>\n",
       "      <td>check experian credit report monthly basis app...</td>\n",
       "    </tr>\n",
       "    <tr>\n",
       "      <th>12</th>\n",
       "      <td>retail_banking</td>\n",
       "      <td>I opened a citibank checking account on XXXX X...</td>\n",
       "      <td>opened citibank checking account tried transfe...</td>\n",
       "    </tr>\n",
       "  </tbody>\n",
       "</table>\n",
       "</div>\n",
       "      <button class=\"colab-df-convert\" onclick=\"convertToInteractive('df-d2474c83-f67c-4c5c-835f-86d3244f64ba')\"\n",
       "              title=\"Convert this dataframe to an interactive table.\"\n",
       "              style=\"display:none;\">\n",
       "        \n",
       "  <svg xmlns=\"http://www.w3.org/2000/svg\" height=\"24px\"viewBox=\"0 0 24 24\"\n",
       "       width=\"24px\">\n",
       "    <path d=\"M0 0h24v24H0V0z\" fill=\"none\"/>\n",
       "    <path d=\"M18.56 5.44l.94 2.06.94-2.06 2.06-.94-2.06-.94-.94-2.06-.94 2.06-2.06.94zm-11 1L8.5 8.5l.94-2.06 2.06-.94-2.06-.94L8.5 2.5l-.94 2.06-2.06.94zm10 10l.94 2.06.94-2.06 2.06-.94-2.06-.94-.94-2.06-.94 2.06-2.06.94z\"/><path d=\"M17.41 7.96l-1.37-1.37c-.4-.4-.92-.59-1.43-.59-.52 0-1.04.2-1.43.59L10.3 9.45l-7.72 7.72c-.78.78-.78 2.05 0 2.83L4 21.41c.39.39.9.59 1.41.59.51 0 1.02-.2 1.41-.59l7.78-7.78 2.81-2.81c.8-.78.8-2.07 0-2.86zM5.41 20L4 18.59l7.72-7.72 1.47 1.35L5.41 20z\"/>\n",
       "  </svg>\n",
       "      </button>\n",
       "      \n",
       "  <style>\n",
       "    .colab-df-container {\n",
       "      display:flex;\n",
       "      flex-wrap:wrap;\n",
       "      gap: 12px;\n",
       "    }\n",
       "\n",
       "    .colab-df-convert {\n",
       "      background-color: #E8F0FE;\n",
       "      border: none;\n",
       "      border-radius: 50%;\n",
       "      cursor: pointer;\n",
       "      display: none;\n",
       "      fill: #1967D2;\n",
       "      height: 32px;\n",
       "      padding: 0 0 0 0;\n",
       "      width: 32px;\n",
       "    }\n",
       "\n",
       "    .colab-df-convert:hover {\n",
       "      background-color: #E2EBFA;\n",
       "      box-shadow: 0px 1px 2px rgba(60, 64, 67, 0.3), 0px 1px 3px 1px rgba(60, 64, 67, 0.15);\n",
       "      fill: #174EA6;\n",
       "    }\n",
       "\n",
       "    [theme=dark] .colab-df-convert {\n",
       "      background-color: #3B4455;\n",
       "      fill: #D2E3FC;\n",
       "    }\n",
       "\n",
       "    [theme=dark] .colab-df-convert:hover {\n",
       "      background-color: #434B5C;\n",
       "      box-shadow: 0px 1px 3px 1px rgba(0, 0, 0, 0.15);\n",
       "      filter: drop-shadow(0px 1px 2px rgba(0, 0, 0, 0.3));\n",
       "      fill: #FFFFFF;\n",
       "    }\n",
       "  </style>\n",
       "\n",
       "      <script>\n",
       "        const buttonEl =\n",
       "          document.querySelector('#df-d2474c83-f67c-4c5c-835f-86d3244f64ba button.colab-df-convert');\n",
       "        buttonEl.style.display =\n",
       "          google.colab.kernel.accessAllowed ? 'block' : 'none';\n",
       "\n",
       "        async function convertToInteractive(key) {\n",
       "          const element = document.querySelector('#df-d2474c83-f67c-4c5c-835f-86d3244f64ba');\n",
       "          const dataTable =\n",
       "            await google.colab.kernel.invokeFunction('convertToInteractive',\n",
       "                                                     [key], {});\n",
       "          if (!dataTable) return;\n",
       "\n",
       "          const docLinkHtml = 'Like what you see? Visit the ' +\n",
       "            '<a target=\"_blank\" href=https://colab.research.google.com/notebooks/data_table.ipynb>data table notebook</a>'\n",
       "            + ' to learn more about interactive tables.';\n",
       "          element.innerHTML = '';\n",
       "          dataTable['output_type'] = 'display_data';\n",
       "          await google.colab.output.renderOutput(dataTable, element);\n",
       "          const docLink = document.createElement('div');\n",
       "          docLink.innerHTML = docLinkHtml;\n",
       "          element.appendChild(docLink);\n",
       "        }\n",
       "      </script>\n",
       "    </div>\n",
       "  </div>\n",
       "  "
      ],
      "text/plain": [
       "                product                                          narrative  \\\n",
       "0   mortgages_and_loans  On XX/XX/2019 I made a monthly loan payment to...   \n",
       "3       debt_collection  On XX/XX/XXXX, I received a voicemail message ...   \n",
       "8      credit_reporting  I have recently discovered that there is unaut...   \n",
       "9      credit_reporting  I check my Experian credit report on a monthly...   \n",
       "12       retail_banking  I opened a citibank checking account on XXXX X...   \n",
       "\n",
       "                                  processed_narrative  \n",
       "0   made monthly loan payment pnc bank branch mana...  \n",
       "3   received voicemail message later identified wo...  \n",
       "8   recently discovered unauthorized information n...  \n",
       "9   check experian credit report monthly basis app...  \n",
       "12  opened citibank checking account tried transfe...  "
      ]
     },
     "execution_count": 7,
     "metadata": {},
     "output_type": "execute_result"
    }
   ],
   "source": [
    "# Define stopwords, punctuations, and special characters to remove from the text\n",
    "stopwords_punctuations = set(stopwords.words('english')).union(set(string.punctuation)).union(['--', 'xxxx', \"''\", '\"\"', '...', '``'])\n",
    "\n",
    "# Initialize WordNetLemmatizer for lemmatizing the words\n",
    "lemmatizer = WordNetLemmatizer()\n",
    "\n",
    "# Function to process text data\n",
    "def process_text(text):\n",
    "    # Tokenize the text data\n",
    "    tokens = nltk.word_tokenize(text)\n",
    "    \n",
    "    # Remove stopwords, punctuations, and special characters\n",
    "    sw_punct_rmd = [token.lower() for token in tokens if token.lower() not in stopwords_punctuations and token.isalpha()]\n",
    "    \n",
    "    # Lemmatize the words\n",
    "    lemmatized_words = [lemmatizer.lemmatize(word) for word in sw_punct_rmd]\n",
    "    \n",
    "    # Join the words into a single string and return\n",
    "    processed_text = ' '.join(lemmatized_words)\n",
    "    return processed_text\n",
    "\n",
    "tqdm.pandas()\n",
    "df['processed_narrative'] = df['narrative'].progress_apply(process_text)\n",
    "\n",
    "df.head()"
   ]
  },
  {
   "cell_type": "code",
   "execution_count": 8,
   "metadata": {
    "id": "tF7aOGuOib64"
   },
   "outputs": [],
   "source": [
    "df.to_parquet('processed_narrative.parquet')"
   ]
  },
  {
   "cell_type": "markdown",
   "metadata": {
    "id": "M83M89WhUbzs"
   },
   "source": [
    "**Test Data Preparation**"
   ]
  },
  {
   "cell_type": "code",
   "execution_count": 10,
   "metadata": {
    "colab": {
     "base_uri": "https://localhost:8080/"
    },
    "id": "KqHfQnM4QBEK",
    "outputId": "407f4336-96bc-49e1-efd2-36820a3d08ca"
   },
   "outputs": [
    {
     "data": {
      "text/plain": [
       "(532070, 18)"
      ]
     },
     "execution_count": 10,
     "metadata": {},
     "output_type": "execute_result"
    }
   ],
   "source": [
    "df_test.shape"
   ]
  },
  {
   "cell_type": "code",
   "execution_count": 11,
   "metadata": {
    "id": "mwuTT0eDSDgG"
   },
   "outputs": [],
   "source": [
    "# dropping rows which have no narrative (358643 rows)\n",
    "df_test = df_test.dropna(subset=['Consumer complaint narrative'])"
   ]
  },
  {
   "cell_type": "code",
   "execution_count": 12,
   "metadata": {
    "colab": {
     "base_uri": "https://localhost:8080/"
    },
    "id": "9bQvc1V-ST4G",
    "outputId": "5ad07406-9bc1-48ee-eb91-0d2e5af57e6c"
   },
   "outputs": [
    {
     "data": {
      "text/plain": [
       "(177508, 18)"
      ]
     },
     "execution_count": 12,
     "metadata": {},
     "output_type": "execute_result"
    }
   ],
   "source": [
    "df_test.shape"
   ]
  },
  {
   "cell_type": "code",
   "execution_count": 13,
   "metadata": {
    "colab": {
     "base_uri": "https://localhost:8080/"
    },
    "id": "TiROwaUgSXO2",
    "outputId": "0440fd87-601f-4537-994d-45deebbd4789"
   },
   "outputs": [
    {
     "data": {
      "text/plain": [
       "Credit reporting, credit repair services, or other personal consumer reports    125237\n",
       "Debt collection                                                                  13084\n",
       "Checking or savings account                                                      11905\n",
       "Credit card or prepaid card                                                      11126\n",
       "Mortgage                                                                          6025\n",
       "Money transfer, virtual currency, or money service                                3529\n",
       "Vehicle loan or lease                                                             3162\n",
       "Student loan                                                                      1899\n",
       "Payday loan, title loan, or personal loan                                         1541\n",
       "Name: product, dtype: int64"
      ]
     },
     "execution_count": 13,
     "metadata": {},
     "output_type": "execute_result"
    }
   ],
   "source": [
    "# Picking \"Product ,Consumer complaint narrative\" for the modelling\n",
    "df_test = df_test[['Product', 'Consumer complaint narrative']]\n",
    "# Columns renamed for easy access\n",
    "df_test = df_test.rename(columns={\"Product\": \"product\",  \"Consumer complaint narrative\": \"narrative\"})\n",
    "df_test['product'].value_counts()"
   ]
  },
  {
   "cell_type": "code",
   "execution_count": 14,
   "metadata": {
    "colab": {
     "base_uri": "https://localhost:8080/"
    },
    "id": "xPJuAuLRSkGu",
    "outputId": "eb115760-035c-4a4a-90b8-eebc3eb9ca3f"
   },
   "outputs": [
    {
     "data": {
      "text/plain": [
       "(177508, 2)"
      ]
     },
     "execution_count": 14,
     "metadata": {},
     "output_type": "execute_result"
    }
   ],
   "source": [
    "df_test.shape"
   ]
  },
  {
   "cell_type": "code",
   "execution_count": 15,
   "metadata": {
    "colab": {
     "base_uri": "https://localhost:8080/"
    },
    "id": "nw2HDv1WSsbk",
    "outputId": "168c2151-73fe-4f21-9220-da1c366f68ca"
   },
   "outputs": [
    {
     "data": {
      "text/plain": [
       "credit_reporting       125237\n",
       "retail_banking          15434\n",
       "debt_collection         13084\n",
       "mortgages_and_loans     12627\n",
       "credit_card             11126\n",
       "Name: product, dtype: int64"
      ]
     },
     "execution_count": 15,
     "metadata": {},
     "output_type": "execute_result"
    }
   ],
   "source": [
    "# Aggrigating product column to easily categorise for the modelling\n",
    "\n",
    "df_test['product'].replace({'Credit reporting, credit repair services, or other personal consumer reports': 'credit_reporting',\n",
    "                       'Credit reporting': 'credit_reporting',\n",
    "                       'Debt collection': 'debt_collection',\n",
    "                       'Credit card or prepaid card': 'credit_card',\n",
    "                       'Prepaid card': 'credit_card',\n",
    "                       'Credit card': 'credit_card',\n",
    "                       'Mortgage': 'mortgage',\n",
    "                       'Checking or savings account': 'retail_banking',\n",
    "                       'Money transfer, virtual currency, or money service': 'retail_banking',\n",
    "                       'Other financial service':'retail_banking',\n",
    "                       'Virtual currency':'retail_banking',\n",
    "                       'Money transfers':'retail_banking',\n",
    "                       'Bank account or service': 'retail_banking',\n",
    "                       'Vehicle loan or lease': 'loans',\n",
    "                       'Consumer Loan': 'loans',\n",
    "                       'Payday loan': 'loans',\n",
    "                       'Payday loan, title loan, or personal loan': 'loans',\n",
    "                       'Student loan': 'loans'}, inplace=True)\n",
    "df_test['product'].replace({'mortgage': 'mortgages_and_loans',\n",
    "                       'loans': 'mortgages_and_loans'}, inplace=True)\n",
    "df_test['product'].value_counts()"
   ]
  },
  {
   "cell_type": "code",
   "execution_count": 16,
   "metadata": {
    "colab": {
     "base_uri": "https://localhost:8080/"
    },
    "id": "_jP4NfRylodA",
    "outputId": "255a4521-b551-4f0a-ed91-6c7057242d9f"
   },
   "outputs": [
    {
     "name": "stderr",
     "output_type": "stream",
     "text": [
      "100%|██████████| 177508/177508 [05:42<00:00, 517.95it/s]\n"
     ]
    }
   ],
   "source": [
    "df_test['processed_narrative'] = df_test['narrative'].progress_apply(process_text)"
   ]
  },
  {
   "cell_type": "code",
   "execution_count": 17,
   "metadata": {
    "id": "r4JppIf2l0WG"
   },
   "outputs": [],
   "source": [
    "df_test.to_parquet('processed_narrative_test.parquet')"
   ]
  },
  {
   "cell_type": "code",
   "execution_count": null,
   "metadata": {
    "id": "BUF7zzy1qw3X"
   },
   "outputs": [],
   "source": [
    "https://gv-smdm.s3.amazonaws.com/processed_narrative_test.parquet\n",
    "\n",
    "https://gv-smdm.s3.amazonaws.com/processed_narrative.parquet"
   ]
  }
 ],
 "metadata": {
  "colab": {
   "provenance": []
  },
  "kernelspec": {
   "display_name": "Python 3 (ipykernel)",
   "language": "python",
   "name": "python3"
  },
  "language_info": {
   "codemirror_mode": {
    "name": "ipython",
    "version": 3
   },
   "file_extension": ".py",
   "mimetype": "text/x-python",
   "name": "python",
   "nbconvert_exporter": "python",
   "pygments_lexer": "ipython3",
   "version": "3.10.9"
  },
  "toc-autonumbering": false,
  "toc-showcode": false,
  "toc-showmarkdowntxt": false,
  "varInspector": {
   "cols": {
    "lenName": 16,
    "lenType": 16,
    "lenVar": 40
   },
   "kernels_config": {
    "python": {
     "delete_cmd_postfix": "",
     "delete_cmd_prefix": "del ",
     "library": "var_list.py",
     "varRefreshCmd": "print(var_dic_list())"
    },
    "r": {
     "delete_cmd_postfix": ") ",
     "delete_cmd_prefix": "rm(",
     "library": "var_list.r",
     "varRefreshCmd": "cat(var_dic_list()) "
    }
   },
   "types_to_exclude": [
    "module",
    "function",
    "builtin_function_or_method",
    "instance",
    "_Feature"
   ],
   "window_display": false
  }
 },
 "nbformat": 4,
 "nbformat_minor": 1
}
