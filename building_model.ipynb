{
 "cells": [
  {
   "cell_type": "code",
   "execution_count": 1,
   "metadata": {
    "id": "4AZYOhIE-OGC"
   },
   "outputs": [],
   "source": [
    "import numpy as np\n",
    "import pandas as pd\n",
    "from sklearn.model_selection import train_test_split\n",
    "from sklearn.metrics import classification_report, confusion_matrix, precision_score, f1_score, recall_score, accuracy_score\n",
    "from sklearn.feature_extraction.text import TfidfVectorizer , CountVectorizer\n",
    "from sklearn.naive_bayes import MultinomialNB \n",
    "from sklearn.ensemble import RandomForestClassifier , GradientBoostingClassifier\n",
    "from sklearn.tree import DecisionTreeClassifier\n",
    "from xgboost import XGBClassifier\n",
    "from sklearn.neighbors import KNeighborsClassifier\n",
    "from sklearn.metrics import classification_report"
   ]
  },
  {
   "cell_type": "code",
   "execution_count": 2,
   "metadata": {
    "id": "hQLKUpe9-a6i"
   },
   "outputs": [],
   "source": [
    "train_orig_df = pd.read_parquet('https://gv-smdm.s3.amazonaws.com/processed_narrative.parquet')\n",
    "test_orig_df = pd.read_parquet('https://gv-smdm.s3.amazonaws.com/processed_narrative_test.parquet')\n",
    "train_orig_df = train_orig_df.dropna()\n",
    "test_orig_df = test_orig_df.dropna()"
   ]
  },
  {
   "cell_type": "code",
   "execution_count": 3,
   "metadata": {
    "id": "JcXXBEcHAaFE"
   },
   "outputs": [],
   "source": [
    "df_train = train_orig_df.copy()\n",
    "df_test = test_orig_df.copy()\n",
    "df_train.reset_index(inplace=True)\n",
    "df_test.reset_index(inplace=True)\n",
    "df_train = df_train[['product' , 'processed_narrative']]\n",
    "df_test = df_test[['product' , 'processed_narrative']]"
   ]
  },
  {
   "cell_type": "code",
   "execution_count": 4,
   "metadata": {
    "colab": {
     "base_uri": "https://localhost:8080/"
    },
    "id": "cVjg3E_TA9jm",
    "outputId": "0d733f1b-9aa6-43d9-803a-2e2adcdb7575"
   },
   "outputs": [],
   "source": [
    "product_match_dict = {k: v for v, k in enumerate(['debt_collection', 'credit_card', 'credit_reporting', 'retail_banking', 'mortgages_and_loans'])}\n",
    "\n",
    "df_train['product'] = df_train['product'].map(product_match_dict)\n",
    "df_test['product'] = df_test['product'].map(product_match_dict)"
   ]
  },
  {
   "cell_type": "code",
   "execution_count": 5,
   "metadata": {
    "colab": {
     "base_uri": "https://localhost:8080/"
    },
    "id": "i3BA8KcfDX4f",
    "outputId": "8cca9f2c-1739-4eb1-b421-5f45b5939bf3"
   },
   "outputs": [
    {
     "name": "stdout",
     "output_type": "stream",
     "text": [
      "╒════════════════════════════════════════════════════════════════════╤════════════════════════════════════════════════════════════════════╕\n",
      "│ Train Data                                                         │ Test Data                                                          │\n",
      "╞════════════════════════════════════════════════════════════════════╪════════════════════════════════════════════════════════════════════╡\n",
      "│ product                                processed_narrative         │ product                                processed_narrative         │\n",
      "│ 826614        3  refer previous correspondence according resear... │ 177503        2  date sent letter equifax tracking number inves... │\n",
      "│ 826615        1  affidavit truth consumer enforcement administr... │ 177504        2  received letter dated credit report letter sta... │\n",
      "│ 826616        0  dear cfpb team reason complaint tried resolve ... │ 177505        2  pulled credit report noticed inquiry cascade c... │\n",
      "│ 826617        3  tried contact cash app fraudulent payment refu... │ 177506        2  accordance fair credit reporting act account v... │\n",
      "│ 826618        4  tuesday switched choice another mortgage compa... │ 177507        2  reached company report updated change made dis... │\n",
      "╘════════════════════════════════════════════════════════════════════╧════════════════════════════════════════════════════════════════════╛\n"
     ]
    }
   ],
   "source": [
    "from tabulate import tabulate\n",
    "\n",
    "print(tabulate([['Train Data', 'Test Data'], \n",
    "                [str(df_train.tail()), str(df_test.tail())]], \n",
    "               headers='firstrow', tablefmt='fancy_grid'))"
   ]
  },
  {
   "cell_type": "code",
   "execution_count": 6,
   "metadata": {
    "id": "u9z3SRCbEheW"
   },
   "outputs": [],
   "source": [
    "# Split the data into features and target variables\n",
    "X = df_train.drop(['product'], axis=1)\n",
    "y = df_train['product']\n",
    "X_real = df_test.drop(['product'], axis=1)\n",
    "y_real = df_test['product']\n",
    "\n",
    "# Split the training data into training and validation sets\n",
    "X_train, X_test, y_train, y_test = train_test_split(X['processed_narrative'], y, test_size=0.20, random_state=999)\n",
    "\n",
    "# Fit the TfidfVectorizer on the training data and transform the test and validation data\n",
    "vectorizer = TfidfVectorizer(ngram_range=(1,2), max_features=1000000)\n",
    "vect_X_train = vectorizer.fit_transform(X_train)\n",
    "vect_X_test = vectorizer.transform(X_test)\n",
    "\n",
    "# Define a function to print the evaluation metrics\n",
    "def scoring(y_real, y_pred):\n",
    "    accuracy = accuracy_score(y_real, y_pred)\n",
    "    precision = precision_score(y_real, y_pred, average='macro')\n",
    "    recall = recall_score(y_real, y_pred, average='macro')\n",
    "    f1 = f1_score(y_real, y_pred, average='macro')\n",
    "\n",
    "    print(\"Accuracy: {:.1%}\".format(accuracy))\n",
    "    print(\"Precision: {:.1%}\".format(precision))\n",
    "    print(\"Recall: {:.1%}\".format(recall))\n",
    "    print(\"F1: {:.1%}\".format(f1))"
   ]
  },
  {
   "cell_type": "markdown",
   "metadata": {
    "id": "_ZaowkzBGc-X"
   },
   "source": [
    "# **Random Forest**"
   ]
  },
  {
   "cell_type": "code",
   "execution_count": 7,
   "metadata": {
    "colab": {
     "base_uri": "https://localhost:8080/"
    },
    "id": "Bqd0XzYuGhax",
    "outputId": "57301e99-f69a-4b0b-a554-0c1177c66c57"
   },
   "outputs": [
    {
     "name": "stdout",
     "output_type": "stream",
     "text": [
      "Accuracy: 57.2%\n",
      "Precision: 85.7%\n",
      "Recall: 22.5%\n",
      "F1: 19.2%\n"
     ]
    }
   ],
   "source": [
    "rdmfst = RandomForestClassifier(max_depth=20)\n",
    "rdmfst.fit(vect_X_train, y_train)\n",
    "test_y_pred_rf = rdmfst.predict(vect_X_test)\n",
    "scoring(y_test, test_y_pred_rf)"
   ]
  },
  {
   "cell_type": "markdown",
   "metadata": {
    "id": "JzF23J_uIdNT"
   },
   "source": [
    "# **Decision tree**"
   ]
  },
  {
   "cell_type": "code",
   "execution_count": 8,
   "metadata": {
    "colab": {
     "base_uri": "https://localhost:8080/"
    },
    "id": "bk_zPlTqIV2l",
    "outputId": "f06d215a-de1f-4c1f-b639-d26b3d90d5ea"
   },
   "outputs": [
    {
     "name": "stdout",
     "output_type": "stream",
     "text": [
      "Accuracy: 82.6%\n",
      "Precision: 78.8%\n",
      "Recall: 74.6%\n",
      "F1: 76.5%\n"
     ]
    }
   ],
   "source": [
    "dtree = DecisionTreeClassifier(max_depth=20)\n",
    "dtree.fit(vect_X_train, y_train)\n",
    "test_y_pred_dt = dtree.predict(vect_X_test)\n",
    "scoring(y_test, test_y_pred_dt)"
   ]
  },
  {
   "cell_type": "markdown",
   "metadata": {
    "id": "yxeFBkUwInG3"
   },
   "source": [
    "# **Naive Bayes**"
   ]
  },
  {
   "cell_type": "code",
   "execution_count": 9,
   "metadata": {
    "colab": {
     "base_uri": "https://localhost:8080/"
    },
    "id": "oWGINPc1IFeZ",
    "outputId": "e5c5d743-5bb6-481f-e88c-36d9430082c6"
   },
   "outputs": [
    {
     "name": "stdout",
     "output_type": "stream",
     "text": [
      "Accuracy: 85.5%\n",
      "Precision: 84.1%\n",
      "Recall: 79.2%\n",
      "F1: 81.0%\n"
     ]
    }
   ],
   "source": [
    "NB = MultinomialNB()\n",
    "NB.fit(vect_X_train, y_train)\n",
    "test_y_pred_nb = NB.predict(vect_X_test)\n",
    "scoring(y_test, test_y_pred_nb)"
   ]
  },
  {
   "cell_type": "markdown",
   "metadata": {
    "id": "ko9jWxqrJhRK"
   },
   "source": [
    "# **K Nearest neighbour model**"
   ]
  },
  {
   "cell_type": "code",
   "execution_count": 34,
   "metadata": {
    "id": "adha0uMaJo3l"
   },
   "outputs": [
    {
     "name": "stdout",
     "output_type": "stream",
     "text": [
      "Accuracy: 5660.0%\n",
      "Precision: 4290.0%\n",
      "Recall: 2970.0%\n",
      "F1: 3000.0%\n"
     ]
    }
   ],
   "source": [
    "n = KNeighborsClassifier(n_neighbors=5, weights='distance')\n",
    "n.fit(vect_X_train, y_train)\n",
    "test_y_pred = n.predict(vect_X_test)\n",
    "scoring(y_test, test_y_pred)"
   ]
  },
  {
   "cell_type": "markdown",
   "metadata": {
    "id": "G15QSYbqOK3-"
   },
   "source": [
    "# **XG Boost**"
   ]
  },
  {
   "cell_type": "code",
   "execution_count": 10,
   "metadata": {
    "id": "BndCxdPgOSXg"
   },
   "outputs": [
    {
     "name": "stdout",
     "output_type": "stream",
     "text": [
      "Accuracy: 87.4%\n",
      "Precision: 84.9%\n",
      "Recall: 82.9%\n",
      "F1: 83.8%\n"
     ]
    }
   ],
   "source": [
    "xgb = XGBClassifier()\n",
    "xgb.fit(vect_X_train, y_train)\n",
    "test_y_pred_xgb = xgb.predict(vect_X_test)\n",
    "scoring(y_test, test_y_pred_xgb)"
   ]
  },
  {
   "cell_type": "code",
   "execution_count": 12,
   "metadata": {
    "id": "yAce1SKcRn8E"
   },
   "outputs": [
    {
     "data": {
      "image/png": "[encoded data removed]",
      "text/plain": [
       "<Figure size 1000x600 with 1 Axes>"
      ]
     },
     "metadata": {},
     "output_type": "display_data"
    }
   ],
   "source": [
    "import matplotlib.pyplot as plt\n",
    "\n",
    "# Create a list of tuples with the data for each model\n",
    "results = [\n",
    "    ('Decision Tree', 82.6, 78.9, 74.6, 76.6),\n",
    "    ('Random Forest', 57.2, 84.6, 22.3, 18.9),\n",
    "    ('Naive Bayes', 85.5, 84.1, 79.2, 81.0),\n",
    "    ('KNN', 56.6, 42.9, 29.7, 30.0),\n",
    "    ('XG Boost', 87.4, 84.9, 82.9, 83.8)\n",
    "]\n",
    "\n",
    "# Convert the data to a DataFrame and set the index to the model names\n",
    "results_df = pd.DataFrame.from_records(results, columns=['Model', 'Accuracy', 'Precision', 'Recall', 'F1 Score'])\n",
    "results_df.set_index('Model', inplace=True)\n",
    "\n",
    "# Define the colors for the bars\n",
    "colors = ['#ffbb78', '#2ca02c', '#98df8a', '#d62728', '#ff9896']\n",
    "\n",
    "# Plot the data as a horizontal bar chart\n",
    "fig, ax = plt.subplots(figsize=(10, 6))\n",
    "results_df.plot.barh(ax=ax, color=colors)\n",
    "\n",
    "# Set the x-axis limits and labels\n",
    "ax.set_xlim([0, 100])\n",
    "ax.set_xticks(np.arange(0, 101, 10))\n",
    "ax.set_xlabel('Percentage', fontsize=12)\n",
    "\n",
    "# Add a legend and adjust the spacing\n",
    "ax.legend(bbox_to_anchor=(1.01, 1), loc='upper left')\n",
    "plt.tight_layout()\n",
    "\n",
    "# Display the chart\n",
    "plt.show()"
   ]
  },
  {
   "cell_type": "markdown",
   "metadata": {
    "id": "XQHOyFtWTnE7"
   },
   "source": [
    "# **Testing on recent dataset**"
   ]
  },
  {
   "cell_type": "code",
   "execution_count": 13,
   "metadata": {
    "id": "U81nmwYdTvju"
   },
   "outputs": [],
   "source": [
    "vectorizer_real = TfidfVectorizer(ngram_range=(1,2), max_features=1000000)\n",
    "vect_X_real = vectorizer_real.fit_transform(X_real.squeeze())"
   ]
  },
  {
   "cell_type": "markdown",
   "metadata": {
    "id": "KfnXjOmyT8Vu"
   },
   "source": [
    "# **Random Forest**"
   ]
  },
  {
   "cell_type": "code",
   "execution_count": 14,
   "metadata": {
    "id": "lBb7jpsWUA3s"
   },
   "outputs": [
    {
     "name": "stdout",
     "output_type": "stream",
     "text": [
      "Accuracy: 70.6%\n",
      "Precision: 14.1%\n",
      "Recall: 20.0%\n",
      "F1: 16.5%\n"
     ]
    },
    {
     "name": "stderr",
     "output_type": "stream",
     "text": [
      "/Users/akshay/anaconda3/lib/python3.10/site-packages/sklearn/metrics/_classification.py:1344: UndefinedMetricWarning: Precision is ill-defined and being set to 0.0 in labels with no predicted samples. Use `zero_division` parameter to control this behavior.\n",
      "  _warn_prf(average, modifier, msg_start, len(result))\n"
     ]
    }
   ],
   "source": [
    "real_y_pred_rf = rdmfst.predict(vect_X_real)\n",
    "scoring(y_real, real_y_pred_rf)"
   ]
  },
  {
   "cell_type": "markdown",
   "metadata": {
    "id": "8wjbgLDrJQbd"
   },
   "source": [
    "# **Decision Tree**"
   ]
  },
  {
   "cell_type": "code",
   "execution_count": 15,
   "metadata": {
    "id": "O-CsqE3-JT0V"
   },
   "outputs": [
    {
     "name": "stdout",
     "output_type": "stream",
     "text": [
      "Accuracy: 70.5%\n",
      "Precision: 26.8%\n",
      "Recall: 20.0%\n",
      "F1: 16.6%\n"
     ]
    }
   ],
   "source": [
    "real_y_pred = dtree.predict(vect_X_real)\n",
    "scoring(y_real, real_y_pred)"
   ]
  },
  {
   "cell_type": "markdown",
   "metadata": {
    "id": "nY5u2_nGJY1u"
   },
   "source": [
    "# **Naive Bayes**"
   ]
  },
  {
   "cell_type": "code",
   "execution_count": 16,
   "metadata": {
    "id": "Nv46jVXZJftA"
   },
   "outputs": [
    {
     "name": "stdout",
     "output_type": "stream",
     "text": [
      "Accuracy: 9.7%\n",
      "Precision: 22.0%\n",
      "Recall: 21.6%\n",
      "F1: 10.1%\n"
     ]
    }
   ],
   "source": [
    "real_y_pred = NB.predict(vect_X_real)\n",
    "scoring(y_real, real_y_pred)"
   ]
  },
  {
   "cell_type": "markdown",
   "metadata": {
    "id": "HE0nbx3vJyQI"
   },
   "source": [
    "# **K Nearest neighbour**"
   ]
  },
  {
   "cell_type": "code",
   "execution_count": 33,
   "metadata": {},
   "outputs": [
    {
     "name": "stdout",
     "output_type": "stream",
     "text": [
      "Accuracy: 55.6%\n",
      "Precision: 20.5%\n",
      "Recall: 20.5%\n",
      "F1: 21.3%\n"
     ]
    }
   ],
   "source": [
    "real_y_pred = n.predict(vect_X_real)\n",
    "scoring(y_real, real_y_pred)"
   ]
  },
  {
   "cell_type": "markdown",
   "metadata": {
    "id": "Ilt6256MJ9Px"
   },
   "source": [
    "# **XG Boost**"
   ]
  },
  {
   "cell_type": "code",
   "execution_count": 19,
   "metadata": {
    "id": "an3eO63LKA-U"
   },
   "outputs": [
    {
     "name": "stdout",
     "output_type": "stream",
     "text": [
      "Accuracy: 70.5%\n",
      "Precision: 27.3%\n",
      "Recall: 20.0%\n",
      "F1: 16.6%\n"
     ]
    }
   ],
   "source": [
    "real_y_pred = xgb.predict(vect_X_real)\n",
    "scoring(y_real, real_y_pred)"
   ]
  },
  {
   "cell_type": "markdown",
   "metadata": {
    "id": "xUMHS99oKEhN"
   },
   "source": [
    "# **Trying Count vectorizer and TFIDF with different**"
   ]
  },
  {
   "cell_type": "code",
   "execution_count": 21,
   "metadata": {
    "id": "_YQrBbH1KMWZ"
   },
   "outputs": [],
   "source": [
    "real_X = df_test['processed_narrative']\n",
    "real_y = df_test['product']"
   ]
  },
  {
   "cell_type": "markdown",
   "metadata": {
    "id": "V6FY3Gg9KYbY"
   },
   "source": [
    "# **Gradient Boosting with TFIDF and max_feature 20,000**"
   ]
  },
  {
   "cell_type": "code",
   "execution_count": 22,
   "metadata": {
    "id": "ysIu5Ej-KcQY"
   },
   "outputs": [
    {
     "data": {
      "text/html": [
       "<style>#sk-container-id-1 {color: black;background-color: white;}#sk-container-id-1 pre{padding: 0;}#sk-container-id-1 div.sk-toggleable {background-color: white;}#sk-container-id-1 label.sk-toggleable__label {cursor: pointer;display: block;width: 100%;margin-bottom: 0;padding: 0.3em;box-sizing: border-box;text-align: center;}#sk-container-id-1 label.sk-toggleable__label-arrow:before {content: \"▸\";float: left;margin-right: 0.25em;color: #696969;}#sk-container-id-1 label.sk-toggleable__label-arrow:hover:before {color: black;}#sk-container-id-1 div.sk-estimator:hover label.sk-toggleable__label-arrow:before {color: black;}#sk-container-id-1 div.sk-toggleable__content {max-height: 0;max-width: 0;overflow: hidden;text-align: left;background-color: #f0f8ff;}#sk-container-id-1 div.sk-toggleable__content pre {margin: 0.2em;color: black;border-radius: 0.25em;background-color: #f0f8ff;}#sk-container-id-1 input.sk-toggleable__control:checked~div.sk-toggleable__content {max-height: 200px;max-width: 100%;overflow: auto;}#sk-container-id-1 input.sk-toggleable__control:checked~label.sk-toggleable__label-arrow:before {content: \"▾\";}#sk-container-id-1 div.sk-estimator input.sk-toggleable__control:checked~label.sk-toggleable__label {background-color: #d4ebff;}#sk-container-id-1 div.sk-label input.sk-toggleable__control:checked~label.sk-toggleable__label {background-color: #d4ebff;}#sk-container-id-1 input.sk-hidden--visually {border: 0;clip: rect(1px 1px 1px 1px);clip: rect(1px, 1px, 1px, 1px);height: 1px;margin: -1px;overflow: hidden;padding: 0;position: absolute;width: 1px;}#sk-container-id-1 div.sk-estimator {font-family: monospace;background-color: #f0f8ff;border: 1px dotted black;border-radius: 0.25em;box-sizing: border-box;margin-bottom: 0.5em;}#sk-container-id-1 div.sk-estimator:hover {background-color: #d4ebff;}#sk-container-id-1 div.sk-parallel-item::after {content: \"\";width: 100%;border-bottom: 1px solid gray;flex-grow: 1;}#sk-container-id-1 div.sk-label:hover label.sk-toggleable__label {background-color: #d4ebff;}#sk-container-id-1 div.sk-serial::before {content: \"\";position: absolute;border-left: 1px solid gray;box-sizing: border-box;top: 0;bottom: 0;left: 50%;z-index: 0;}#sk-container-id-1 div.sk-serial {display: flex;flex-direction: column;align-items: center;background-color: white;padding-right: 0.2em;padding-left: 0.2em;position: relative;}#sk-container-id-1 div.sk-item {position: relative;z-index: 1;}#sk-container-id-1 div.sk-parallel {display: flex;align-items: stretch;justify-content: center;background-color: white;position: relative;}#sk-container-id-1 div.sk-item::before, #sk-container-id-1 div.sk-parallel-item::before {content: \"\";position: absolute;border-left: 1px solid gray;box-sizing: border-box;top: 0;bottom: 0;left: 50%;z-index: -1;}#sk-container-id-1 div.sk-parallel-item {display: flex;flex-direction: column;z-index: 1;position: relative;background-color: white;}#sk-container-id-1 div.sk-parallel-item:first-child::after {align-self: flex-end;width: 50%;}#sk-container-id-1 div.sk-parallel-item:last-child::after {align-self: flex-start;width: 50%;}#sk-container-id-1 div.sk-parallel-item:only-child::after {width: 0;}#sk-container-id-1 div.sk-dashed-wrapped {border: 1px dashed gray;margin: 0 0.4em 0.5em 0.4em;box-sizing: border-box;padding-bottom: 0.4em;background-color: white;}#sk-container-id-1 div.sk-label label {font-family: monospace;font-weight: bold;display: inline-block;line-height: 1.2em;}#sk-container-id-1 div.sk-label-container {text-align: center;}#sk-container-id-1 div.sk-container {/* jupyter's `normalize.less` sets `[hidden] { display: none; }` but bootstrap.min.css set `[hidden] { display: none !important; }` so we also need the `!important` here to be able to override the default hidden behavior on the sphinx rendered scikit-learn.org. See: https://github.com/scikit-learn/scikit-learn/issues/21755 */display: inline-block !important;position: relative;}#sk-container-id-1 div.sk-text-repr-fallback {display: none;}</style><div id=\"sk-container-id-1\" class=\"sk-top-container\"><div class=\"sk-text-repr-fallback\"><pre>GradientBoostingClassifier(max_depth=5, random_state=999)</pre><b>In a Jupyter environment, please rerun this cell to show the HTML representation or trust the notebook. <br />On GitHub, the HTML representation is unable to render, please try loading this page with nbviewer.org.</b></div><div class=\"sk-container\" hidden><div class=\"sk-item\"><div class=\"sk-estimator sk-toggleable\"><input class=\"sk-toggleable__control sk-hidden--visually\" id=\"sk-estimator-id-1\" type=\"checkbox\" checked><label for=\"sk-estimator-id-1\" class=\"sk-toggleable__label sk-toggleable__label-arrow\">GradientBoostingClassifier</label><div class=\"sk-toggleable__content\"><pre>GradientBoostingClassifier(max_depth=5, random_state=999)</pre></div></div></div></div></div>"
      ],
      "text/plain": [
       "GradientBoostingClassifier(max_depth=5, random_state=999)"
      ]
     },
     "execution_count": 22,
     "metadata": {},
     "output_type": "execute_result"
    }
   ],
   "source": [
    "gb_vectorizer = TfidfVectorizer(max_features=20000)\n",
    "vect_X_train = gb_vectorizer.fit_transform(X_train)\n",
    "vect_X_test = gb_vectorizer.transform(real_X)\n",
    "gb = GradientBoostingClassifier(random_state=999, max_depth=5)\n",
    "gb.fit(vect_X_train, y_train)"
   ]
  },
  {
   "cell_type": "code",
   "execution_count": 23,
   "metadata": {
    "id": "7BiidAcyKfv8"
   },
   "outputs": [],
   "source": [
    "gb_vectorizer = TfidfVectorizer(max_features=20000)\n",
    "vect_X_train = gb_vectorizer.fit_transform(X_train)\n",
    "vect_X_test = gb_vectorizer.transform(real_X)"
   ]
  },
  {
   "cell_type": "code",
   "execution_count": 24,
   "metadata": {
    "id": "ITBzcatkKisC"
   },
   "outputs": [
    {
     "name": "stdout",
     "output_type": "stream",
     "text": [
      "Accuracy: 89.8%\n",
      "Precision: 83.0%\n",
      "Recall: 78.3%\n",
      "F1: 80.5%\n"
     ]
    }
   ],
   "source": [
    "real_y_pred = gb.predict(vect_X_test)\n",
    "scoring(y_real, real_y_pred)"
   ]
  },
  {
   "cell_type": "code",
   "execution_count": 25,
   "metadata": {
    "id": "oOYZQvJJKlHy"
   },
   "outputs": [
    {
     "name": "stdout",
     "output_type": "stream",
     "text": [
      "              precision    recall  f1-score   support\n",
      "\n",
      "           0       0.70      0.68      0.69     13084\n",
      "           1       0.77      0.68      0.72     11126\n",
      "           2       0.93      0.96      0.95    125237\n",
      "           3       0.89      0.83      0.86     15434\n",
      "           4       0.86      0.77      0.81     12627\n",
      "\n",
      "    accuracy                           0.90    177508\n",
      "   macro avg       0.83      0.78      0.81    177508\n",
      "weighted avg       0.90      0.90      0.90    177508\n",
      "\n"
     ]
    }
   ],
   "source": [
    "print(classification_report(y_real ,real_y_pred))"
   ]
  },
  {
   "cell_type": "markdown",
   "metadata": {
    "id": "aZEo6m00KtX5"
   },
   "source": [
    "# **Naive Bayes model**"
   ]
  },
  {
   "cell_type": "code",
   "execution_count": 26,
   "metadata": {
    "id": "v552MkmgK0yt"
   },
   "outputs": [],
   "source": [
    "nb_vectorizer = CountVectorizer(ngram_range=(1,2), max_features=80000)\n",
    "vect_X_train = nb_vectorizer.fit_transform(X_train)\n",
    "vect_X_test = nb_vectorizer.transform(real_X)\n",
    "nb = MultinomialNB(alpha=0.45)"
   ]
  },
  {
   "cell_type": "code",
   "execution_count": 27,
   "metadata": {
    "id": "ntf2njXnK4KB"
   },
   "outputs": [
    {
     "name": "stdout",
     "output_type": "stream",
     "text": [
      "Accuracy: 87.8%\n",
      "Precision: 75.1%\n",
      "Recall: 82.3%\n",
      "F1: 78.4%\n"
     ]
    }
   ],
   "source": [
    "nb.fit(vect_X_train, y_train)\n",
    "real_y_pred = nb.predict(vect_X_test)\n",
    "scoring(y_real, real_y_pred)"
   ]
  },
  {
   "cell_type": "markdown",
   "metadata": {
    "id": "BwD2oNSIK7XT"
   },
   "source": [
    "Naive bias performs better with count vectoriser and max features of 80,000 with a F1 of 78.4%\n",
    "\n",
    "But Gradient boosting performs better than Naive Bais with TFIDF vectoriser and max features of 20,000.\n",
    "\n",
    "The caviat with Gradient boosting is that it takes longer than Naive bais for the training and prediction. But that trade-off can be accepted with better accuracy.\n",
    "\n",
    "Hence finalizing Gradient boosting as a the model to be deployed.\n",
    "\n",
    "The models are saved using Pickle to be reused."
   ]
  },
  {
   "cell_type": "code",
   "execution_count": 35,
   "metadata": {
    "id": "nqORr4VqK_2u"
   },
   "outputs": [],
   "source": [
    "# saving  model\n",
    "import pickle\n",
    "filename='model.sav'\n",
    "pickle.dump(gb, open(filename, 'wb'))\n",
    "pickle.dump(gb_vectorizer, open('TFIDF_Vect.pkl', 'wb'))"
   ]
  },
  {
   "cell_type": "code",
   "execution_count": null,
   "metadata": {},
   "outputs": [],
   "source": []
  }
 ],
 "metadata": {
  "accelerator": "TPU",
  "colab": {
   "provenance": [],
   "toc_visible": true
  },
  "gpuClass": "standard",
  "kernelspec": {
   "display_name": "Python 3 (ipykernel)",
   "language": "python",
   "name": "python3"
  },
  "language_info": {
   "codemirror_mode": {
    "name": "ipython",
    "version": 3
   },
   "file_extension": ".py",
   "mimetype": "text/x-python",
   "name": "python",
   "nbconvert_exporter": "python",
   "pygments_lexer": "ipython3",
   "version": "3.10.9"
  }
 },
 "nbformat": 4,
 "nbformat_minor": 1
}
